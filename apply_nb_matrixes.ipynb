{
 "cells": [
  {
   "cell_type": "code",
   "execution_count": null,
   "id": "81fd5ebf-ebf8-403d-84e5-27a77ddb8844",
   "metadata": {},
   "outputs": [],
   "source": [
    "import random\n",
    "import re\n",
    "import pandas as pd\n",
    "from tqdm import tqdm\n",
    "import pickle\n",
    "import numpy as np\n",
    "from pathlib import Path\n",
    "from joblib import Parallel, delayed\n",
    "import hdmedians as hd\n",
    "\n",
    "from utils import create_nodes_with_counters, load_edges, load_supersegments, load_labels_core"
   ]
  },
  {
   "cell_type": "code",
   "execution_count": null,
   "id": "0738e67b-ed05-4649-ab88-8252b94e36af",
   "metadata": {},
   "outputs": [],
   "source": []
  },
  {
   "cell_type": "code",
   "execution_count": null,
   "id": "0df3963e-c185-460a-8b79-0ecb6901462f",
   "metadata": {},
   "outputs": [],
   "source": [
    "city_name = \"london\"\n",
    "\n",
    "data_dir = Path(\"/Users/martin/PycharmProjects/traffic4cast/data/\")\n",
    "# data_dir = Path(\"traffic4cast/data/\")\n",
    "\n",
    "traffic_path = data_dir / \"traffic\""
   ]
  },
  {
   "cell_type": "code",
   "execution_count": null,
   "id": "6e7c4a18-82b4-4f54-8dc7-6165c62be4af",
   "metadata": {},
   "outputs": [],
   "source": [
    "TRACK = \"core\""
   ]
  },
  {
   "cell_type": "code",
   "execution_count": null,
   "id": "9787988c-7a79-4194-9fb3-db9e768b607c",
   "metadata": {},
   "outputs": [],
   "source": []
  },
  {
   "cell_type": "code",
   "execution_count": null,
   "id": "4d307bd1-02d6-4084-8589-7f2324c2b538",
   "metadata": {},
   "outputs": [],
   "source": [
    "def load_labels_extended(supersegment_to_id):\n",
    "    files = sorted((data_dir / 'train' / city_name / 'labels').glob('eta_labels_*.parquet'))\n",
    "    df = pd.read_parquet(files)\n",
    "    df[\"supersegment_id\"] = [supersegment_to_id[s] for s in df[\"identifier\"]]\n",
    "    print(df.shape)\n",
    "    return df"
   ]
  },
  {
   "cell_type": "code",
   "execution_count": null,
   "id": "d4afa95b-73be-4d5e-9678-d69613b9b4a2",
   "metadata": {},
   "outputs": [],
   "source": []
  },
  {
   "cell_type": "code",
   "execution_count": null,
   "id": "66757e9d-bde9-453b-8a66-3fb638ee012d",
   "metadata": {},
   "outputs": [],
   "source": [
    "engineered_edge_features_to_keep = [\"edge_int\", \"nearest_counter_id\", \"counter_distance_euclidean\", \"counter_distance_euclidean_mean_all\"]\n",
    "\n",
    "nodes_with_counters = create_nodes_with_counters(city_name, blacklist=True)\n",
    "\n",
    "nodes = pd.read_parquet(data_dir / f\"road_graph/{city_name}/road_graph_nodes.parquet\")"
   ]
  },
  {
   "cell_type": "code",
   "execution_count": null,
   "id": "47b19933-e76e-4092-a3a4-a5b7eec38aa0",
   "metadata": {},
   "outputs": [],
   "source": [
    "if TRACK == \"core\":\n",
    "    entities, entity_to_id, id_to_entity = load_edges(city_name)\n",
    "    entities = entities.merge(nodes[[\"node_id\", \"x\", \"y\"]], left_on=\"u\", right_on=\"node_id\", how=\"left\")\n",
    "else:\n",
    "    entities, entity_to_id, id_to_entity = load_supersegments(city_name)"
   ]
  },
  {
   "cell_type": "code",
   "execution_count": null,
   "id": "48380047-65c0-4264-9c40-83ef8335d019",
   "metadata": {},
   "outputs": [],
   "source": [
    "# Fit spatial tree \n",
    "from sklearn.neighbors import KDTree, BallTree\n",
    "tree = KDTree(nodes_with_counters[[\"x\", \"y\"]], metric=\"euclidean\")\n",
    "print(nodes_with_counters.shape)\n",
    "\n",
    "# # Query the tree for entity\n",
    "dist, ind = tree.query(entities[[\"x\", \"y\"]], k=10)\n",
    "entities[\"nearest_counter_id\"] = ind[:,0]\n",
    "entities[\"counter_distance_euclidean\"] = dist[:,0]\n",
    "entities[\"counter_distance_euclidean_mean_all\"] = dist.mean(axis=1)"
   ]
  },
  {
   "cell_type": "code",
   "execution_count": null,
   "id": "3b0701d3-3585-4f82-8e30-006beab118da",
   "metadata": {},
   "outputs": [],
   "source": [
    "# Load volume matrixes\n",
    "with open(traffic_path / city_name / \"volume_matrix.pkl\", \"rb\") as f:\n",
    "    matrixes, row_mapping = pickle.load(f)"
   ]
  },
  {
   "cell_type": "code",
   "execution_count": null,
   "id": "b5d355b6-7721-4a00-b399-849a26c0e052",
   "metadata": {},
   "outputs": [],
   "source": [
    "if TRACK == \"core\":\n",
    "    labels = load_labels_core(city_name, entity_to_id)\n",
    "    labels = labels.merge(entities[engineered_edge_features_to_keep], on=\"edge_int\")\n",
    "else:\n",
    "    raise NotImplementedError\n",
    "    labels = load_labels_extended(entity_to_id)\n",
    "    labels = labels.merge(entities, on=\"supersegment_id\")\n",
    "    \n",
    "labels.count()"
   ]
  },
  {
   "cell_type": "code",
   "execution_count": null,
   "id": "594d7564-c69e-4a12-9595-54da7f0a6c20",
   "metadata": {},
   "outputs": [],
   "source": []
  },
  {
   "cell_type": "code",
   "execution_count": null,
   "id": "b09138a8-cb16-4d14-80ff-539ec693525b",
   "metadata": {},
   "outputs": [],
   "source": []
  },
  {
   "cell_type": "code",
   "execution_count": null,
   "id": "d2830820-c101-473e-bbbe-b8a3e8cdd729",
   "metadata": {},
   "outputs": [],
   "source": [
    "# labels = labels.merge(entities[engineered_edge_features_to_keep], on=\"edge_int\")"
   ]
  },
  {
   "cell_type": "code",
   "execution_count": null,
   "id": "78dfb7ae-845d-4f38-bcca-2e8ea5f3bfb9",
   "metadata": {},
   "outputs": [],
   "source": []
  },
  {
   "cell_type": "code",
   "execution_count": null,
   "id": "5545743b-b427-4281-9082-38b79bf4add6",
   "metadata": {},
   "outputs": [],
   "source": []
  },
  {
   "cell_type": "code",
   "execution_count": null,
   "id": "fd62c3f6-8ee8-43c6-8f79-be7ac3f99ce2",
   "metadata": {},
   "outputs": [],
   "source": []
  },
  {
   "cell_type": "code",
   "execution_count": null,
   "id": "fe3acda3-b151-4dcf-ad61-b1f9d79a4af0",
   "metadata": {},
   "outputs": [],
   "source": [
    "assert matrixes[\"B_30_volumes_last\"].shape[1] == nodes_with_counters.shape[0]"
   ]
  },
  {
   "cell_type": "code",
   "execution_count": null,
   "id": "a4de211b-3f71-4b0f-b189-aef3312eaee0",
   "metadata": {},
   "outputs": [],
   "source": []
  },
  {
   "cell_type": "code",
   "execution_count": null,
   "id": "5cf3e070-88e5-4d23-a238-44c9b98c07c2",
   "metadata": {},
   "outputs": [],
   "source": [
    "def get_weighted_values(df: pd.DataFrame, feature_name: str, weight_matrix: np.array, row_mapping: dict, mode=\"train\"):\n",
    "    # There's labels for 2020-06-03 in Melbourne, but not counters :scream:\n",
    "    # Let's keep NaN values for when counter data is missing\n",
    "    \n",
    "    if mode == \"train\":\n",
    "        vals = []\n",
    "\n",
    "        for d, t, c in tqdm(zip(df[\"day\"], df[\"t\"], df[\"nearest_counter_id\"])):\n",
    "            row = row_mapping.get((d, t))\n",
    "            if row is not None:\n",
    "                val = weight_matrix[row,c]\n",
    "            else:\n",
    "                val = np.nan\n",
    "            vals.append(val)\n",
    "    else:\n",
    "        vals = []\n",
    "\n",
    "        for t, c in tqdm(zip(df[\"test_idx\"], df[\"nearest_counter_id\"])):\n",
    "            row = row_mapping.get(t)\n",
    "            if row is not None:\n",
    "                val = weight_matrix[row,c]\n",
    "            else:\n",
    "                val = np.nan\n",
    "            vals.append(val)\n",
    "    \n",
    "    df[f\"euclidean_{feature_name}\"] = vals\n",
    "    return df"
   ]
  },
  {
   "cell_type": "code",
   "execution_count": null,
   "id": "518962e6-3858-4789-abca-be0a0a57ba77",
   "metadata": {},
   "outputs": [],
   "source": [
    "for f in matrixes:\n",
    "    print(f)\n",
    "    labels = get_weighted_values(labels, f, matrixes[f], row_mapping)"
   ]
  },
  {
   "cell_type": "code",
   "execution_count": null,
   "id": "9153563f-0f1a-48ed-85c5-73dbfb876032",
   "metadata": {},
   "outputs": [],
   "source": [
    "labels.count()"
   ]
  },
  {
   "cell_type": "code",
   "execution_count": null,
   "id": "3cfc6516-a40d-4a82-9a70-70fad2223ab2",
   "metadata": {},
   "outputs": [],
   "source": []
  },
  {
   "cell_type": "code",
   "execution_count": null,
   "id": "f3a77ca6-4fca-4092-b272-8766285af78d",
   "metadata": {},
   "outputs": [],
   "source": [
    "del labels[\"nearest_counter_id\"]"
   ]
  },
  {
   "cell_type": "code",
   "execution_count": null,
   "id": "b409ddc3-b758-4e5c-8f92-230d5e49ad96",
   "metadata": {},
   "outputs": [],
   "source": [
    "filename = \"cc_all_labels.parquet\" if TRACK == \"core\" else \"eta_all_labels.parquet\"\n",
    "labels.to_parquet(data_dir / \"train\" / city_name / \"labels\" / filename)"
   ]
  },
  {
   "cell_type": "code",
   "execution_count": null,
   "id": "62390d42-3e0f-4612-bac4-fb2af9e3776e",
   "metadata": {},
   "outputs": [],
   "source": []
  },
  {
   "cell_type": "code",
   "execution_count": null,
   "id": "a3986294-f02b-43d3-8a1e-669aad3b2782",
   "metadata": {},
   "outputs": [],
   "source": [
    "# raise ValueError"
   ]
  },
  {
   "cell_type": "markdown",
   "id": "d02f17f8-0164-42fb-8572-add86662e274",
   "metadata": {},
   "source": [
    "## Test set"
   ]
  },
  {
   "cell_type": "code",
   "execution_count": null,
   "id": "e92b2ec5-3d05-4a73-88a6-44370d453d4d",
   "metadata": {},
   "outputs": [],
   "source": [
    "def create_test_frame_core():\n",
    "    # For test, we need to generate labels structure ourself\n",
    "    pd.options.mode.chained_assignment = None  # default='warn'\n",
    "\n",
    "    test_periods = 100\n",
    "\n",
    "    # For test set, we need to create a submission set of length len(edges) * counters_test[\"test_idx\"].nunique()\n",
    "    # Do this in iterations, as direct join returned weird DF shape\n",
    "    full_test = []\n",
    "    for t in tqdm(range(test_periods)):\n",
    "        full = entities[[\"u\", \"v\"] + engineered_edge_features_to_keep].copy()\n",
    "        full[\"test_idx\"] = t\n",
    "        full_test.append(full)\n",
    "\n",
    "    full_test = pd.concat(full_test)\n",
    "    print(full_test.shape)\n",
    "    return full_test\n",
    "\n",
    "def create_test_frame_extended(supersegment_to_id):\n",
    "    test_left = pd.DataFrame({\"identifier\": list(supersegment_to_id.keys())})\n",
    "    test_left = pd.concat([test_left]*100)\n",
    "    test_idx = []\n",
    "    current = 0\n",
    "    unique_segments = test_left[\"identifier\"].nunique()\n",
    "    print(unique_segments)\n",
    "    for i in range(100):\n",
    "        test_idx.extend([current]*unique_segments)\n",
    "        current += 1\n",
    "    test_left[\"test_idx\"] = test_idx\n",
    "\n",
    "    assert test_idx[unique_segments-1] != test_idx[unique_segments]\n",
    "    test_left[\"supersegment_id\"] = [supersegment_to_id[s] for s in test_left[\"identifier\"]]\n",
    "    test_left\n",
    "    \n",
    "    test_left = test_left.merge(entities, on=\"supersegment_id\")\n",
    "    \n",
    "    return test_left"
   ]
  },
  {
   "cell_type": "code",
   "execution_count": null,
   "id": "c5712975-dc17-454f-8f39-6b9b050d5a9b",
   "metadata": {},
   "outputs": [],
   "source": [
    "if TRACK == \"core\":\n",
    "    full_test = create_test_frame_core()\n",
    "else:\n",
    "    full_test = create_test_frame_extended(entity_to_id)"
   ]
  },
  {
   "cell_type": "code",
   "execution_count": null,
   "id": "36be6153-11d2-4942-ab7f-8a651e4dacf6",
   "metadata": {},
   "outputs": [],
   "source": []
  },
  {
   "cell_type": "code",
   "execution_count": null,
   "id": "97103d8f-6358-4d97-9021-c90d558efa3d",
   "metadata": {},
   "outputs": [],
   "source": [
    "full_test"
   ]
  },
  {
   "cell_type": "code",
   "execution_count": null,
   "id": "b0ed449a-1194-4602-8ed3-60679d428296",
   "metadata": {},
   "outputs": [],
   "source": [
    "# Test set\n",
    "with open(traffic_path / city_name / \"volume_matrix_test.pkl\", \"rb\") as f:\n",
    "    matrixes_test, row_mapping_test = pickle.load(f)\n",
    "    \n",
    "for f in matrixes_test:\n",
    "    print(f)\n",
    "    full_test = get_weighted_values(full_test, f, matrixes_test[f], row_mapping_test, \"test\")"
   ]
  },
  {
   "cell_type": "code",
   "execution_count": null,
   "id": "f4afc7fa-a51d-4f4c-8afb-0fc20fee833f",
   "metadata": {},
   "outputs": [],
   "source": [
    "del full_test[\"nearest_counter_id\"]\n",
    "full_test.count()"
   ]
  },
  {
   "cell_type": "code",
   "execution_count": null,
   "id": "e87b5b6d-8316-436f-8335-1979f08e0551",
   "metadata": {},
   "outputs": [],
   "source": [
    "full_test.to_parquet(data_dir / \"test\" / city_name / \"labels\" / filename)"
   ]
  },
  {
   "cell_type": "code",
   "execution_count": null,
   "id": "3dc78e94-73e2-4f2f-aa5a-0cfb8718cc8b",
   "metadata": {},
   "outputs": [],
   "source": []
  }
 ],
 "metadata": {
  "kernelspec": {
   "display_name": "t4c22",
   "language": "python",
   "name": "t4c22"
  },
  "language_info": {
   "codemirror_mode": {
    "name": "ipython",
    "version": 3
   },
   "file_extension": ".py",
   "mimetype": "text/x-python",
   "name": "python",
   "nbconvert_exporter": "python",
   "pygments_lexer": "ipython3",
   "version": "3.10.4"
  }
 },
 "nbformat": 4,
 "nbformat_minor": 5
}
